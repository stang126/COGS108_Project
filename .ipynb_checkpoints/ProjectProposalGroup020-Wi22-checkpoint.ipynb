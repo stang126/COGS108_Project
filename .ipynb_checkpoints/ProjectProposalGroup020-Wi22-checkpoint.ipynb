{
 "cells": [
  {
   "cell_type": "markdown",
   "metadata": {},
   "source": [
    "# COGS 108 - Final Project Proposal"
   ]
  },
  {
   "cell_type": "markdown",
   "metadata": {},
   "source": [
    "# Names\n",
    "\n",
    "- Steven Won\n",
    "- Serena Tang\n",
    "- Jeffrey Luu\n",
    "- Faris Ashai\n",
    "- Benjamin Hofflich"
   ]
  },
  {
   "cell_type": "markdown",
   "metadata": {},
   "source": [
    "# Research Question"
   ]
  },
  {
   "cell_type": "markdown",
   "metadata": {},
   "source": [
    "Is there a significant difference between obesity rates in individuals across income levels in different regions in the United States? "
   ]
  },
  {
   "cell_type": "markdown",
   "metadata": {},
   "source": [
    "## Background and Prior Work"
   ]
  },
  {
   "cell_type": "markdown",
   "metadata": {},
   "source": [
    "$\\;\\;\\;\\;\\;\\;$ In the past few years, the rates of obesity within the United States have increased while the wealth gap has also increased. While no correlation between obesity and economic class may have existed previously in the United States, changes in lifestyle over the past decade could have caused this trend to change. Due to the nature of mass production of processed foods, unhealthy food is less expensive and available than their healthier counterparts. As a result, these foods are more accessible for people of lower income households. Fructose, for example, is a commonly used sweetener in beverages that decreases insulin sensitivity in obese people[1]. While overall sugar consumption gradually rose in the 20th century, from 12 percent of U.S. food energy in 1909 to 19 percent by the year 2000, the use of high fructose corn syrup (HCFS) in the U.S. increased from virtually zero per capita in 1970 to over 60 pounds per capita annually in the U.S. in 2000, about half of total sugar consumption[1]. HFCS is now the main sweetener in sweetened beverages, which as of 2016, have constituted over 7 percent of household food expenditures and over 9 percent of expenditures for low-income households in the SNAP program[1].  \n",
    "    \n",
    "$\\;\\;\\;\\;\\;\\;$ Across different states, there is a general geographic heterogeneity of obesity rates in the US [1]. In recent years, an inverse correlation has been identified between obesity and household income. In 2015, in states with a median household income below $\\$$45,000 per year, such as Alabama, Mississippi, and West Virginia, over 35 pecent of the population was obese; meanwhile in states with a median household earning of more than $\\$$65,000 per year, obesity rates were lower than 25 percent. While financial constraints may help to explain this trend, the Social Learning hypothesis provides an alternate explanation. Local communities can have their own cultural and social norms which may therefore underlie local differences in obesity and diabetes rates.\n",
    "    \n",
    "$\\;\\;\\;\\;\\;\\;$ In addition to geography as a confounding variable in the correlation between obesity and income level, race and ethnicity may influence this relationship as well. In a study from the CDC in 2010, obesity in men was found to be similar across income levels with a slightly higher rate among higher income levels; however, these trends differ between race and ethnicity groups. For non-Hispanic black and Mexican American men, the obesity rate tended to decrease as income levels decreased, but there was no significant difference between obesity rates across income levels in non-Hispanic white men. Additionally, it was found that women in more affulent households had lower obesity rates than their lower income counterparts [2]. \n",
    "\n",
    "$\\;\\;\\;\\;\\;\\;$ While these findings were from highly trustworthy sources, such as Nature and the CDC, another study from the NIH that examine the trend between obesity and income found that publication bias can affect these trends. While the meta-analyses of the data suggested a significant correlation bewtween obesity and income level, adjusting for publication bias resulted in this correlation vanishing[3]. Due to these conflicting results, the correlation between obesity and economic status may need to be further studied.\n",
    "    \n",
    "   References:\n",
    "- 1) https://www.nature.com/articles/s41599-018-0201-x \n",
    "- 2) https://www.cdc.gov/nchs/products/databriefs/db50.htm\n",
    "- 3) https://www.ncbi.nlm.nih.gov/pmc/articles/PMC5781054/"
   ]
  },
  {
   "cell_type": "markdown",
   "metadata": {},
   "source": [
    "# Hypothesis\n"
   ]
  },
  {
   "cell_type": "markdown",
   "metadata": {},
   "source": [
    "Though obesity rates and income levels will vary geographically due to heterogeneity across different regions in the United States, we hypothesize an inverse correlation between mean household income by city and obesity rates."
   ]
  },
  {
   "cell_type": "markdown",
   "metadata": {},
   "source": [
    "# Data"
   ]
  },
  {
   "cell_type": "markdown",
   "metadata": {},
   "source": [
    "$\\;\\;\\;\\;\\;\\;$ There are two types of ideal datasets; one would divide the information by city and state statistics and another would divide by individuals across the US. In the case of the city and state, a cities average income level, total population, population with obesity, and a breakdown of gender, age, and race/ethnicity within the city. In the data divided by individuals, their income level, state (or region), obesity status, gender, age, education level, and race. \n",
    "\n",
    "$\\;\\;\\;\\;\\;\\;$ In the case of using data based on cities, about 400 observations or more would be ideal. If the data was based off individuals, about 10,000 observations or more would be ideal. \n",
    "\n",
    "$\\;\\;\\;\\;\\;\\;$ In both cases, the data may be collected by hospitals, census, CDC, or through surveys. Such data sets would be stored in Excel files or in a csv file. \n",
    "\n",
    "Possible data sets: https://data.world/dartmouthatlas/care-of-surgical-conditions, https://nccd.cdc.gov/dnpao_dtm/rdPage.aspx?rdReport=DNPAO_DTM.ExploreByTopic&islClass=OWS&islTopic=&go=GO"
   ]
  },
  {
   "cell_type": "markdown",
   "metadata": {},
   "source": [
    "# Ethics & Privacy"
   ]
  },
  {
   "cell_type": "markdown",
   "metadata": {},
   "source": [
    "$\\;\\;\\;\\;\\;\\;$ In general, we will have permision to use the data we found as we plan to use publicly available datasets for this project. Additionally, in order to prevent any privacy concerns, the data that we will use should not contain any information that makes it possible to identify any individual(s) who are a part of the data. In the case that it does, the invidiual should be given a unique identifer that will prevent people from identifying them prior to analysis. Additionally, the data that we use can certainly contain certain biases that may skew our results as much of this data conforms to certain societal assumptions about how obesity is portrayed. For example, data collected from the US census may not be representative of the whole country as immigrants are less likely to fill out the census. Additionally, data collected from hospitals may not be able to fully represent data from its city/state as only those who can afford medical care will have access to the hospital; thus, such a dataset may not include valuable information from low income individuals. The dataset sources will be examined prior to analysis and if any biases are detected, such as one source excluding a subset of people, its bias will be acknowledged in the analysis as it may skew the results. \n",
    "\n",
    "$\\;\\;\\;\\;\\;\\;$ In terms of ethics, there is a concern that the finding of this project may be used by individuals to perpetuate racial and economic sterotypes and may be used by businesses for targed ads, which may further harm indivduals. For example, companies may target low income regions with inexpensive foods that they know are extremely unhealthy or may push hurtful diets or supplements to different regions. "
   ]
  },
  {
   "cell_type": "markdown",
   "metadata": {},
   "source": [
    "# Team Expectations "
   ]
  },
  {
   "cell_type": "markdown",
   "metadata": {},
   "source": [
    "1. Everyone will contribute equally to the project.\n",
    "2. We will review each other’s work to ensure the quality of our project\n",
    "3. We will communicate often when we complete a task or run into issues.\n",
    "4. If we get stuck, we will ask for help and look for a resolution immediately.\n",
    "5. We will set a timeline and clear goals for each group member."
   ]
  },
  {
   "cell_type": "markdown",
   "metadata": {},
   "source": [
    "# Project Timeline Proposal"
   ]
  },
  {
   "cell_type": "markdown",
   "metadata": {},
   "source": [
    "| Meeting Date  | Meeting Time| Completed Before Meeting  | Discuss at Meeting |\n",
    "|---|---|---|---|\n",
    "| 1/22  |  2 PM | Read & Think about COGS 108 expectations; brainstorm topics/questions  | Determine best form of communication; Discuss final project topic; Search for possible datasets |\n",
    "| 1/26  |  3 PM | Find/come up with 1 possible project idea; look for possible data sets | Finalise project topic and hypothesis;  Do background research on topic; Disucess ethics, privacy, and more possible sources of datasets; draft project proposal |\n",
    "| 1/28  | 10 AM  | Edit, finalize, and submit proposal; | Discuss Wrangling and possible analytical approaches; Assign group members to lead each specific part; Look at different datasets and discuss which ones to use |\n",
    "| 2/7  | 6 PM  | Import & Wrangle Data (Steven); EDA (Faris, Jeffrey) | Review/Edit wrangling/EDA; Discuss Analysis Plan   |\n",
    "| 2/15  | 12 PM  | Finalize wrangling/EDA; Begin Analysis (Ben, Faris) | Discuss/edit Analysis; Complete project check-in |\n",
    "| 3/7  | 12 PM  | Complete analysis; Draft results/conclusion/discussion (Serena, Jeffrey)| Discuss/edit full project |\n",
    "| 3/14  | Before 11:59 PM  | NA | Turn in Final Project & Group Project Surveys |"
   ]
  }
 ],
 "metadata": {
  "kernelspec": {
   "display_name": "Python 3 (ipykernel)",
   "language": "python",
   "name": "python3"
  },
  "language_info": {
   "codemirror_mode": {
    "name": "ipython",
    "version": 3
   },
   "file_extension": ".py",
   "mimetype": "text/x-python",
   "name": "python",
   "nbconvert_exporter": "python",
   "pygments_lexer": "ipython3",
   "version": "3.9.7"
  }
 },
 "nbformat": 4,
 "nbformat_minor": 2
}
