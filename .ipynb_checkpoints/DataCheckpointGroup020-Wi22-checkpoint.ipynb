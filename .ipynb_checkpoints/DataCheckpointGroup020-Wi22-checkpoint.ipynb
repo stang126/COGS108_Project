{
 "cells": [
  {
   "cell_type": "markdown",
   "metadata": {},
   "source": [
    "# COGS 108 - Data Checkpoint"
   ]
  },
  {
   "cell_type": "markdown",
   "metadata": {},
   "source": [
    "# Names\n",
    "\n",
    "- Serena Tang\n",
    "- Jeffrey Luu\n",
    "- Benjamin Hofflich\n",
    "- Faris Ashai\n",
    "- Steven Won"
   ]
  },
  {
   "cell_type": "markdown",
   "metadata": {},
   "source": [
    "<a id='research_question'></a>\n",
    "# Research Question"
   ]
  },
  {
   "cell_type": "markdown",
   "metadata": {},
   "source": [
    "**Is there a significant difference between obesity rates in individuals across income levels in different cities in the United States for each US state?**\n",
    "\n",
    "There is a presence of heterogenity across individual regions in the United States in terms of income and obesity rates. By identifying the obesity rates and average income for each city in the US, can we determine an index for the correlation strength between income and obesity within each city? Can we then create a ranking system to compare the indices across cities and states? Is there a geographic trend for the intensity of income/obesity correlation across the United States?"
   ]
  },
  {
   "cell_type": "markdown",
   "metadata": {},
   "source": [
    "# Dataset(s)"
   ]
  },
  {
   "cell_type": "markdown",
   "metadata": {},
   "source": [
    "- Dataset Name: 500 Cities: City-level Data (GIS Friendly Format), 2019 release\n",
    "- Link to the dataset: https://chronicdata.cdc.gov/500-Cities-Places/500-Cities-City-level-Data-GIS-Friendly-Format-201/dxpw-cm5u\n",
    "- Number of observations: 500\n",
    "- Number of features: 117\n",
    "- Description: The above dataset was obtained from the CDC and details an estimated percent of a city's population who has a specific health condition from 2017. Specifically, for each city, it contains the city name and FIPS code, its population count from 2010, and a state abbreviation. Additionally, it also contains a model-based estimate for the crude and age adjusted prevalence of certain health conditions and its 95% confidence interval for adults older than 18 years old; it has statistics for conditions such as those without health insurance, arthritis, binge drinking, high blood pressure and those who are taking medicine to treat it, cancer (excluding skin cancer), lung disease, heart disease, diabetes, obesity, etc. For the purpose of this project, we will mainly be using the state abbreviation, city name, and age adjusted prevalence for obesity. \n",
    "\n",
    "\n",
    "- Dataset Name: ZIP Code Data - 2017\n",
    "- Link to the dataset: https://www.irs.gov/statistics/soi-tax-stats-individual-income-tax-statistics-2017-zip-code-data-soi\n",
    "- Number of observations: 27760\n",
    "- Number of features: 153\n",
    "- Description: The above dataset was obtained from the IRS and contains tax information across cities in the US. Specifically, it contains a state's abbreviation and FIPS, city zipcode, total income amount (reported in thousands of dollars), number of returns filed, salary, wages, taxable income, and other tax related information. For the purpose of this project, we will mainly be using the state, zipcode, number of returns, and total income amount. \n",
    "\n",
    "\n",
    "- Dataset Name: US Zip Codes Database\n",
    "- Link to the dataset: https://simplemaps.com/data/us-zips\n",
    "- Number of observations: 33120\n",
    "- Number of features: 18\n",
    "- Description: The above dataset was obtained from Simplemaps and contains a database of US zipcodes. For each zipcode, this dataset contains its latitude, longitude, city name, county name and FIPS and its weight, state abbreviation and name, and timezone. Additionally, if the zipcode is a Zip Code Tabulation area (ZCTA), it will contain information about its ZCTA, population, density. The database also contains information if the latitude and longitude was geolocated using the city name and if the zipcode is used by the US military. For the purpose of this project, we will mainly be using the state, city name, and zipcode information. "
   ]
  },
  {
   "cell_type": "markdown",
   "metadata": {},
   "source": [
    "The CDC dataset will be combined with the ZIP code dataset. As the CDC dataset details an estimated city's percentage of obese residences in a specific state, its information will be linked to a state's zip code and income level. This combination of datasets will allow us to understand how a city's income level correlates to the percent of residents who are obese. As the CDC dataset only contains city names and the IRS dataset contains zipcodes, the US zipcode dataset will be used to relate all the zipcodes that belong to a particular city. "
   ]
  },
  {
   "cell_type": "markdown",
   "metadata": {},
   "source": [
    "# Setup"
   ]
  },
  {
   "cell_type": "code",
   "execution_count": null,
   "metadata": {},
   "outputs": [],
   "source": [
    "import numpy as np\n",
    "import pandas as pd\n",
    "pd.set_option(\"display.max_columns\", 100)\n",
    "import matplotlib.pyplot as plt\n",
    "import math\n",
    "import seaborn as sns\n",
    "sns.set()\n",
    "sns.set_context('talk')\n",
    "\n",
    "import warnings\n",
    "warnings.filterwarnings('ignore')"
   ]
  },
  {
   "cell_type": "code",
   "execution_count": null,
   "metadata": {},
   "outputs": [],
   "source": [
    "CDC_health_df = pd.read_csv('https://chronicdata.cdc.gov/api/views/dxpw-cm5u/rows.csv')\n",
    "IRS_income_df = pd.read_csv('https://www.irs.gov/pub/irs-soi/17zpallnoagi.csv')\n",
    "zipcodes_df = pd.read_csv('uszips.csv')\n",
    "fips_to_zip_df = pd.read_csv('https://query.data.world/s/ccnj3jxdwnsm5mhahx4t52vdnusium')"
   ]
  },
  {
   "cell_type": "markdown",
   "metadata": {},
   "source": [
    "# Data Cleaning"
   ]
  },
  {
   "cell_type": "markdown",
   "metadata": {},
   "source": [
    "- The CDC dataset (`CDC_health_df`) will be truncated to show the city, state, and a model-based estimate for the crude and age adjusted of obesity in adults; each will be renamed for clarity. Additionally, we will drop any rows with missing information.\n",
    "- The IRS dataset (`IRS_income_df`) will be truncated to show the state, zipcode, and the total income amount; each of these column names were renamed for clarity. Additionally, we will drop any rows with missing information.\n",
    "- The Zipcode dataset (`zipcodes_df`) will be truncated to show the zipcode, city, and state abbreviation; each of these column names were renamed for clarity. Additionally, we will drop any rows with missing information.\n",
    "- The IRS dataset and the zipcode data set were combined to map a zipcode to its city (`city_income_df`); this allows us to relate the income of different parts of a city to the entire city. Additionally, as the IRS income data is reported as the total income that zipcode makes, it was divided by the number of returns to understand the average income of a city's population.\n",
    "- The city-income dataset (`city_income_df`) was then combined with the CDC dataset (`CDC_health_df`) to allow us to relate a city's income to its obesity prevalence. Finally, the average incomes (based on the zipcode) for a city was then averaged to determine a city's average income.\n",
    "- The US Zip Code FIPS Lookup (`fips_to_zip_df`) will remove extra columns and be formatted to easily query a zip code using the FIPS code."
   ]
  },
  {
   "cell_type": "code",
   "execution_count": null,
   "metadata": {},
   "outputs": [],
   "source": [
    "# View dataset\n",
    "CDC_health_df.head()"
   ]
  },
  {
   "cell_type": "code",
   "execution_count": null,
   "metadata": {},
   "outputs": [],
   "source": [
    "# View dataset shape\n",
    "CDC_health_df.shape"
   ]
  },
  {
   "cell_type": "code",
   "execution_count": null,
   "metadata": {},
   "outputs": [],
   "source": [
    "# View dataset columns\n",
    "list(CDC_health_df.columns)"
   ]
  },
  {
   "cell_type": "code",
   "execution_count": null,
   "metadata": {},
   "outputs": [],
   "source": [
    "# Load CDC Obesity Data by State and City\n",
    "CDC_health_df = CDC_health_df[['StateAbbr','PlaceName','OBESITY_CrudePrev','OBESITY_AdjPrev']]\n",
    "CDC_health_df.columns = ['State','City','CrudeObesity','AdjObesity']\n",
    "CDC_health_df = CDC_health_df.dropna(how = 'all')\n",
    "CDC_health_df"
   ]
  },
  {
   "cell_type": "code",
   "execution_count": null,
   "metadata": {},
   "outputs": [],
   "source": [
    "# View dataset\n",
    "IRS_income_df.head()"
   ]
  },
  {
   "cell_type": "code",
   "execution_count": null,
   "metadata": {},
   "outputs": [],
   "source": [
    "# View dataset shape\n",
    "IRS_income_df.shape"
   ]
  },
  {
   "cell_type": "code",
   "execution_count": null,
   "metadata": {},
   "outputs": [],
   "source": [
    "# View dataset columns\n",
    "list(IRS_income_df.columns)"
   ]
  },
  {
   "cell_type": "code",
   "execution_count": null,
   "metadata": {},
   "outputs": [],
   "source": [
    "#Load Income data and # of tax returns by State and Zipcode\n",
    "IRS_income_df = IRS_income_df[['STATE','ZIPCODE','N1','A02650']]\n",
    "IRS_income_df.columns = ['State','Zipcode','Returns','Income']\n",
    "IRS_income_df = IRS_income_df.dropna(how = 'all')\n",
    "IRS_income_df.head()"
   ]
  },
  {
   "cell_type": "code",
   "execution_count": null,
   "metadata": {},
   "outputs": [],
   "source": [
    "# View dataset\n",
    "zipcodes_df.head()"
   ]
  },
  {
   "cell_type": "code",
   "execution_count": null,
   "metadata": {},
   "outputs": [],
   "source": [
    "# View dataset shape\n",
    "zipcodes_df.shape"
   ]
  },
  {
   "cell_type": "code",
   "execution_count": null,
   "metadata": {},
   "outputs": [],
   "source": [
    "# View dataset columns\n",
    "zipcodes_df.columns"
   ]
  },
  {
   "cell_type": "code",
   "execution_count": null,
   "metadata": {},
   "outputs": [],
   "source": [
    "#Load Zipcode data\n",
    "zipcodes_df = zipcodes_df[['zip','city','state_id']]\n",
    "zipcodes_df.columns = ['Zipcode','City','State']\n",
    "zipcodes_df = zipcodes_df.dropna(how = 'all')\n",
    "zipcodes_df.head()"
   ]
  },
  {
   "cell_type": "code",
   "execution_count": null,
   "metadata": {},
   "outputs": [],
   "source": [
    "#Merge Zipcodes and Cities to get income by Zipcode\n",
    "city_income_df = pd.merge(\n",
    "    IRS_income_df,\n",
    "    zipcodes_df, \n",
    "    on = ['Zipcode','State']\n",
    ")\n",
    "city_income_df.drop('Zipcode', axis = 1, inplace = True)\n",
    "city_income_df.dropna(how = 'all', inplace = True)\n",
    "city_income_df['Income'] = city_income_df['Income'] / city_income_df['Returns'] * 1000\n",
    "city_income_df.drop('Returns', axis = 1, inplace = True)\n",
    "city_income_df.head()"
   ]
  },
  {
   "cell_type": "code",
   "execution_count": null,
   "metadata": {
    "scrolled": true
   },
   "outputs": [],
   "source": [
    "#Merge Obesity and Income Data\n",
    "income_obesity_df = pd.merge(city_income_df,CDC_health_df, on = ['State','City'])\n",
    "income_obesity_df.head()"
   ]
  },
  {
   "cell_type": "code",
   "execution_count": null,
   "metadata": {},
   "outputs": [],
   "source": [
    "#Income statistics by city (Labels not yet added)\n",
    "city_income_stats = income_obesity_df.groupby(['State','City'], as_index = False).describe().Income"
   ]
  },
  {
   "cell_type": "code",
   "execution_count": null,
   "metadata": {},
   "outputs": [],
   "source": [
    "#Average Income by city\n",
    "income_obesity_df=income_obesity_df.groupby(['State','City'], as_index = False).mean()\n",
    "income_obesity_df.head()"
   ]
  },
  {
   "cell_type": "code",
   "execution_count": null,
   "metadata": {},
   "outputs": [],
   "source": [
    "#Add labels to city income statistics\n",
    "city_income_stats[\"State\"] = income_obesity_df.State\n",
    "city_income_stats[\"City\"] = income_obesity_df.City\n",
    "city_income_stats = city_income_stats[[\"State\", \"City\", \"count\", \"mean\", \"std\", \"min\", \"25%\", \"50%\", \"75%\", \"max\"]]\n",
    "city_income_stats.head()"
   ]
  },
  {
   "cell_type": "code",
   "execution_count": null,
   "metadata": {},
   "outputs": [],
   "source": [
    "# View dataset\n",
    "fips_to_zip_df.head()"
   ]
  },
  {
   "cell_type": "code",
   "execution_count": null,
   "metadata": {},
   "outputs": [],
   "source": [
    "# View dataset shape\n",
    "fips_to_zip_df.shape"
   ]
  },
  {
   "cell_type": "code",
   "execution_count": null,
   "metadata": {},
   "outputs": [],
   "source": [
    "# View dataset\n",
    "fips_to_zip_df.columns"
   ]
  },
  {
   "cell_type": "code",
   "execution_count": null,
   "metadata": {},
   "outputs": [],
   "source": [
    "# Remove unnecesssary columns\n",
    "fips_to_zip_df = fips_to_zip_df[['ZIP', 'STCOUNTYFP', 'CITY', 'STATE']]\n",
    "\n",
    "fips_to_zip_df = fips_to_zip_df.dropna(how = 'all')\n",
    "\n",
    "# Given any FIPS code, we can query it and map to the corresponding ZIP code\n",
    "fips_to_zip_df.set_index('STCOUNTYFP')"
   ]
  }
 ],
 "metadata": {
  "kernelspec": {
   "display_name": "Python 3 (ipykernel)",
   "language": "python",
   "name": "python3"
  },
  "language_info": {
   "codemirror_mode": {
    "name": "ipython",
    "version": 3
   },
   "file_extension": ".py",
   "mimetype": "text/x-python",
   "name": "python",
   "nbconvert_exporter": "python",
   "pygments_lexer": "ipython3",
   "version": "3.9.7"
  }
 },
 "nbformat": 4,
 "nbformat_minor": 2
}
